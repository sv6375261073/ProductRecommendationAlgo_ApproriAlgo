{
 "cells": [
  {
   "cell_type": "code",
   "execution_count": 16,
   "metadata": {},
   "outputs": [],
   "source": [
    "import math\n",
    "import pandas as pd\n",
    "import numpy as np"
   ]
  },
  {
   "cell_type": "code",
   "execution_count": 17,
   "metadata": {},
   "outputs": [],
   "source": [
    "#  dataset having transaction having items per transaction\n",
    "transactionId=[1,2,3,4,5]\n",
    "min_support=0.5\n",
    "confidence=0.75\n",
    "item_purchased=[['bread','chease','egg','juice'],\n",
    "                ['bread','chease','juice'],\n",
    "                ['bread','milk','yogurt'],\n",
    "                ['bread','juice','milk'],\n",
    "               ['chease','juice','milk']]\n",
    "df=pd.DataFrame({'transactionId':transactionId,'item_purchased':item_purchased})"
   ]
  },
  {
   "cell_type": "code",
   "execution_count": 18,
   "metadata": {},
   "outputs": [
    {
     "name": "stdout",
     "output_type": "stream",
     "text": [
      "Total transactions:  5     items:  [['egg'], ['bread'], ['yogurt'], ['juice'], ['milk'], ['chease']]\n"
     ]
    }
   ],
   "source": [
    "# Calculate unique items and total transactions \n",
    "items=set(item for i in range(len(df.item_purchased)) for item in df['item_purchased'][i])\n",
    "items=list([item] for item in items)\n",
    "total_transaction=len(transactionId)\n",
    "print(\"Total transactions: \",total_transaction,\"    items: \",items)"
   ]
  },
  {
   "cell_type": "code",
   "execution_count": 19,
   "metadata": {
    "scrolled": true
   },
   "outputs": [],
   "source": [
    "# Calculate items frequency \n",
    "def items_frequency(items,item_table):\n",
    "    count=0\n",
    "    for j in range(len(item_table)): \n",
    "        a=np.array([i in item_table[j] for i in items ])\n",
    "        if a.all() == True:\n",
    "            count+=1\n",
    "    return count"
   ]
  },
  {
   "cell_type": "code",
   "execution_count": 20,
   "metadata": {},
   "outputs": [],
   "source": [
    "# calculate support for items \n",
    "def support(freq):\n",
    "    return float(freq/total_transaction)"
   ]
  },
  {
   "cell_type": "code",
   "execution_count": 21,
   "metadata": {
    "scrolled": false
   },
   "outputs": [],
   "source": [
    "# update item list to combine same featured item in a single item list \n",
    "def update_item(items):\n",
    "    update_item_val=[list(set(items[i]+items[j])) for i in range(len(items)+1) for j in range(i+1,len(items))]       \n",
    "    return update_item_val"
   ]
  },
  {
   "cell_type": "code",
   "execution_count": 22,
   "metadata": {
    "scrolled": true
   },
   "outputs": [],
   "source": [
    "# calculate support  at all levels \n",
    "def approri(items):\n",
    "    df_new=pd.DataFrame(columns=['items','frequency','support'])\n",
    "    df_list=[]\n",
    "    while len(df_new) !=2:\n",
    "        df_new=pd.DataFrame(columns=['items','frequency','support'],index=[])\n",
    "        for i in range(len(items)):\n",
    "            current_item=items[i]\n",
    "            freq=items_frequency(current_item,df.item_purchased)\n",
    "            supp=support(freq)\n",
    "            if supp >=min_support: \n",
    "                df_new.loc[i]=[current_item,freq,supp]\n",
    "        print(df_new)\n",
    "        df_list.append(df_new)\n",
    "        items=update_item(items)\n",
    "    return df_list"
   ]
  },
  {
   "cell_type": "code",
   "execution_count": 23,
   "metadata": {},
   "outputs": [
    {
     "name": "stdout",
     "output_type": "stream",
     "text": [
      "      items frequency  support\n",
      "1   [bread]         4      0.8\n",
      "3   [juice]         4      0.8\n",
      "4    [milk]         3      0.6\n",
      "5  [chease]         3      0.6\n",
      "              items frequency  support\n",
      "6    [bread, juice]         3      0.6\n",
      "13  [juice, chease]         3      0.6\n"
     ]
    }
   ],
   "source": [
    "tables=approri(items)"
   ]
  },
  {
   "cell_type": "code",
   "execution_count": 24,
   "metadata": {},
   "outputs": [],
   "source": [
    "# making item and support pair of first table to get individuals support \n",
    "table0={str(item_str):support_val for item_str,support_val in zip(tables[0]['items'],tables[0]['support'])}"
   ]
  },
  {
   "cell_type": "code",
   "execution_count": 25,
   "metadata": {},
   "outputs": [],
   "source": [
    "# calculate confidence \n",
    "def confidence(table0,df_new):\n",
    "    total_conf=[]\n",
    "    for l in range(0,len(df_new)):\n",
    "        conf=[df_new[l][2]/table0[str([df_new[l][0][j]])] for j in range(len(df_new[l][0]))]\n",
    "        for item,conf in zip(df_new[l][0],conf):\n",
    "            total_conf.append([df_new[l][0],(item,conf)])\n",
    "    return total_conf           "
   ]
  },
  {
   "cell_type": "code",
   "execution_count": 31,
   "metadata": {},
   "outputs": [
    {
     "name": "stdout",
     "output_type": "stream",
     "text": [
      "Confidence Table :\n"
     ]
    },
    {
     "data": {
      "text/plain": [
       "[[['bread', 'juice'], ('bread', 0.7499999999999999)],\n",
       " [['bread', 'juice'], ('juice', 0.7499999999999999)],\n",
       " [['juice', 'chease'], ('juice', 0.7499999999999999)],\n",
       " [['juice', 'chease'], ('chease', 1.0)]]"
      ]
     },
     "execution_count": 31,
     "metadata": {},
     "output_type": "execute_result"
    }
   ],
   "source": [
    "conf=confidence(table0,tables[-1].values)\n",
    "print(\"Confidence Table :\")\n",
    "conf"
   ]
  }
 ],
 "metadata": {
  "kernelspec": {
   "display_name": "Python 3",
   "language": "python",
   "name": "python3"
  },
  "language_info": {
   "codemirror_mode": {
    "name": "ipython",
    "version": 3
   },
   "file_extension": ".py",
   "mimetype": "text/x-python",
   "name": "python",
   "nbconvert_exporter": "python",
   "pygments_lexer": "ipython3",
   "version": "3.7.4"
  }
 },
 "nbformat": 4,
 "nbformat_minor": 2
}
